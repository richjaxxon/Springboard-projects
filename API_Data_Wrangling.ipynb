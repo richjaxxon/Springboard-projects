{
 "cells": [
  {
   "cell_type": "markdown",
   "id": "41a5f0e7",
   "metadata": {},
   "source": [
    "This exercise will require you to pull some data from https://data.nasdaq.com/ (formerly Quandl API).\n",
    "\n",
    "As a first step, you will need to register a free account on the https://data.nasdaq.com/ website.\n",
    "\n",
    "After you register, you will be provided with a unique API key, that you should store:\n",
    "\n",
    "Note: Use a .env file and put your key in there and python-dotenv to access it in this notebook.\n",
    "\n",
    "The code below uses a key that was used when generating this project but has since been deleted. Never submit your keys to source control. There is a .env-example file in this repository to illusrtate what you need. Copy that to a file called .env and use your own api key in that .env file. Make sure you also have a .gitignore file with a line for .env added to it.\n",
    "\n",
    "The standard Python gitignore is here you can just copy that."
   ]
  },
  {
   "cell_type": "code",
   "execution_count": 4,
   "id": "618a023a",
   "metadata": {},
   "outputs": [],
   "source": [
    "# get api key from your .env file\n",
    "import os\n",
    "from dotenv import load_dotenv\n",
    "\n",
    "load_dotenv()\n",
    "API_KeY = os.getenv('NASDAQ_API_KEY')\n"
   ]
  },
  {
   "cell_type": "markdown",
   "id": "47a7c793",
   "metadata": {},
   "source": [
    "Nasdaq Data has a large number of data sources, but, unfortunately, most of them require a Premium subscription. Still, there are also a good number of free datasets.\n",
    "\n",
    "For this mini project, we will focus on equities data from the Frankfurt Stock Exhange (FSE), which is available for free. We'll try and analyze the stock prices of a company called Carl Zeiss Meditec, which manufactures tools for eye examinations, as well as medical lasers for laser eye surgery: https://www.zeiss.com/meditec/int/home.html. The company is listed under the stock ticker AFX_X.\n",
    "\n",
    "You can find the detailed Nasdaq Data API instructions here: https://docs.data.nasdaq.com/docs/in-depth-usage\n",
    "\n",
    "While there is a dedicated Python package for connecting to the Nasdaq API, we would prefer that you use the requests package, which can be easily downloaded using pip or conda. You can find the documentation for the package here: http://docs.python-requests.org/en/master/\n",
    "\n",
    "Finally, apart from the requests package, you are encouraged to not use any third party Python packages, such as pandas, and instead focus on what's available in the Python Standard Library (the collections module might come in handy: https://pymotw.com/3/collections/). Also, since you won't have access to DataFrames, you are encouraged to us Python's native data structures - preferably dictionaries, though some questions can also be answered using lists. You can read more on these data structures here: https://docs.python.org/3/tutorial/datastructures.html\n",
    "\n",
    "Keep in mind that the JSON responses you will be getting from the API map almost one-to-one to Python's dictionaries. Unfortunately, they can be very nested, so make sure you read up on indexing dictionaries in the documentation provided above."
   ]
  },
  {
   "cell_type": "code",
   "execution_count": 6,
   "id": "81b88285",
   "metadata": {},
   "outputs": [],
   "source": [
    "# First, import the relevant modules\n",
    "\n",
    "import requests\n",
    "import collections"
   ]
  },
  {
   "cell_type": "markdown",
   "id": "aef4965b",
   "metadata": {},
   "source": [
    "Note: API's can change a bit with each version, for this exercise it is reccomended to use the nasdaq api at https://data.nasdaq.com/api/v3/. This is the same api as what used to be quandl so https://www.quandl.com/api/v3/ should work too.\n",
    "\n",
    "Hint: We are looking for the AFX_X data on the datasets/FSE/ dataset."
   ]
  },
  {
   "cell_type": "code",
   "execution_count": 7,
   "id": "5c563414",
   "metadata": {},
   "outputs": [
    {
     "name": "stdout",
     "output_type": "stream",
     "text": [
      "<class 'dict'>\n"
     ]
    }
   ],
   "source": [
    "url=\"https://www.quandl.com/api/v3/datasets/FSE/AFX_X.json?API_KEY&start_date=2017-01-02&end_date=2017-01-02\"\n",
    "r=requests.get(url)\n",
    "json_data=r.json()\n",
    "print(type(json_data))"
   ]
  },
  {
   "cell_type": "code",
   "execution_count": 8,
   "id": "0bbc12f3",
   "metadata": {},
   "outputs": [
    {
     "name": "stdout",
     "output_type": "stream",
     "text": [
      "Keys = ['dataset']\n",
      "Values = [{'id': 10095370, 'dataset_code': 'AFX_X', 'database_code': 'FSE', 'name': 'Carl Zeiss Meditec (AFX_X)', 'description': 'Stock Prices for Carl Zeiss Meditec (2020-11-02) from the Frankfurt Stock Exchange.<br><br>Trading System: Xetra<br><br>ISIN: DE0005313704', 'refreshed_at': '2020-12-01T14:48:09.907Z', 'newest_available_date': '2020-12-01', 'oldest_available_date': '2000-06-07', 'column_names': ['Date', 'Open', 'High', 'Low', 'Close', 'Change', 'Traded Volume', 'Turnover', 'Last Price of the Day', 'Daily Traded Units', 'Daily Turnover'], 'frequency': 'daily', 'type': 'Time Series', 'premium': False, 'limit': None, 'transform': None, 'column_index': None, 'start_date': '2017-01-02', 'end_date': '2017-01-02', 'data': [['2017-01-02', 34.99, 35.94, 34.99, 35.8, None, 44700.0, 1590561.0, None, None, None]], 'collapse': None, 'order': None, 'database_id': 6129}]\n"
     ]
    }
   ],
   "source": [
    "m = collections.ChainMap(json_data)\n",
    "print('Keys = {}'.format(list(m.keys())))\n",
    "print('Values = {}'.format(list(m.values())))"
   ]
  },
  {
   "cell_type": "code",
   "execution_count": 9,
   "id": "743dad84",
   "metadata": {},
   "outputs": [
    {
     "name": "stdout",
     "output_type": "stream",
     "text": [
      "200\n"
     ]
    }
   ],
   "source": [
    "# Now, call the Nasdaq API and pull out a small sample of the data (only one day) to get a glimpse\n",
    "# into the JSON structure that will be returned\n",
    "\n",
    "stock_exchange = 'FSE'\n",
    "stock_ticker = 'AFX_X'\n",
    "return_format = 'json'\n",
    "start_date = '2020-06-15'\n",
    "end_date = '2020-06-16'\n",
    "parameters = {'start_date':start_date, 'end_date':end_date}\n",
    "\n",
    "url = f\"https://data.nasdaq.com/api/v3/datasets/{stock_exchange}/{stock_ticker}/data.{return_format}\"\n",
    "\n",
    "res = requests.get(url, parameters)\n",
    "print(res.status_code)"
   ]
  },
  {
   "cell_type": "code",
   "execution_count": 10,
   "id": "e111f81a",
   "metadata": {},
   "outputs": [
    {
     "name": "stdout",
     "output_type": "stream",
     "text": [
      "{'dataset_data': {'limit': None, 'transform': None, 'column_index': None, 'column_names': ['Date', 'Open', 'High', 'Low', 'Close', 'Change', 'Traded Volume', 'Turnover', 'Last Price of the Day', 'Daily Traded Units', 'Daily Turnover'], 'start_date': '2020-06-15', 'end_date': '2020-06-16', 'frequency': 'daily', 'data': [['2020-06-16', 88.35, 90.75, 87.45, 90.65, None, 206243.0, 18478591.35, None, None, None], ['2020-06-15', 85.0, 86.9, 84.75, 86.35, None, 181008.0, 15502164.95, None, None, None]], 'collapse': None, 'order': None}}\n"
     ]
    }
   ],
   "source": [
    "# Inspect the JSON structure of the object you created, and take note of how nested it is,\n",
    "# as well as the overall structure\n",
    "response = res.json()\n",
    "print(response)"
   ]
  },
  {
   "cell_type": "markdown",
   "id": "11ca5d05",
   "metadata": {},
   "source": [
    "These are your tasks for this mini project:\n",
    "\n",
    "Collect data from the Franfurt Stock Exchange, for the ticker AFX_X, for the whole year 2017 (keep in mind that the date format is YYYY-MM-DD)."
   ]
  },
  {
   "cell_type": "code",
   "execution_count": 12,
   "id": "22aa63cf",
   "metadata": {},
   "outputs": [
    {
     "name": "stdout",
     "output_type": "stream",
     "text": [
      "200\n"
     ]
    }
   ],
   "source": [
    "stock_exchange = 'FSE'\n",
    "stock_ticker = 'AFX_X'\n",
    "return_format = 'json'\n",
    "start_date = '2017-01-01'\n",
    "end_date = '2018-01-01'\n",
    "parameters = {'start_date':start_date, 'end_date':end_date}\n",
    "\n",
    "url = f\"https://data.nasdaq.com/api/v3/datasets/{stock_exchange}/{stock_ticker}/data.{return_format}\"\n",
    "\n",
    "res = requests.get(url, parameters)\n",
    "print(res.status_code)"
   ]
  },
  {
   "cell_type": "markdown",
   "id": "05a993c5",
   "metadata": {},
   "source": [
    "Convert the returned JSON object into a Python dictionary."
   ]
  },
  {
   "cell_type": "code",
   "execution_count": 13,
   "id": "8f7f3826",
   "metadata": {},
   "outputs": [
    {
     "name": "stdout",
     "output_type": "stream",
     "text": [
      "dict_keys(['limit', 'transform', 'column_index', 'column_names', 'start_date', 'end_date', 'frequency', 'data', 'collapse', 'order'])\n"
     ]
    }
   ],
   "source": [
    "json_file = res.json()\n",
    "print(json_file['dataset_data'].keys())"
   ]
  },
  {
   "cell_type": "code",
   "execution_count": 16,
   "id": "bcce00de",
   "metadata": {},
   "outputs": [
    {
     "name": "stdout",
     "output_type": "stream",
     "text": [
      "['Date', 'Open', 'High', 'Low', 'Close', 'Change', 'Traded Volume', 'Turnover', 'Last Price of the Day', 'Daily Traded Units', 'Daily Turnover']\n"
     ]
    }
   ],
   "source": [
    "print(json_file['dataset_data']['column_names'])"
   ]
  },
  {
   "cell_type": "markdown",
   "id": "78ca98c6",
   "metadata": {},
   "source": [
    "Calculate what the highest and lowest opening prices were for the stock in this period."
   ]
  },
  {
   "cell_type": "code",
   "execution_count": 14,
   "id": "4d404b93",
   "metadata": {},
   "outputs": [
    {
     "name": "stdout",
     "output_type": "stream",
     "text": [
      "The highest opening price in 2017 was $53.11\n",
      "The lowest opening price in 2017 was $34.0\n"
     ]
    }
   ],
   "source": [
    "highest_op = json_file['dataset_data']['data'][0][1]\n",
    "lowest_op = json_file['dataset_data']['data'][0][1]\n",
    "\n",
    "for day in json_file['dataset_data']['data']:\n",
    "    if day[1]:\n",
    "        highest_op = max(highest_op, day[1])\n",
    "        lowest_op = min(lowest_op, day[1])\n",
    "\n",
    "print(f'The highest opening price in 2017 was ${highest_op}')\n",
    "print(f'The lowest opening price in 2017 was ${lowest_op}')"
   ]
  },
  {
   "cell_type": "markdown",
   "id": "dd625204",
   "metadata": {},
   "source": [
    "What was the largest change in any one day (based on High and Low price)?"
   ]
  },
  {
   "cell_type": "code",
   "execution_count": 17,
   "id": "204f6e43",
   "metadata": {},
   "outputs": [
    {
     "name": "stdout",
     "output_type": "stream",
     "text": [
      "The largest change in any one day in 2017 was $2.81\n"
     ]
    }
   ],
   "source": [
    "largest_change = 0\n",
    "\n",
    "for day in json_file['dataset_data']['data']:\n",
    "    change = abs(day[2] - day[3])\n",
    "    if change:\n",
    "        largest_change = max(largest_change, change)\n",
    "\n",
    "\n",
    "print(f'The largest change in any one day in 2017 was ${round(largest_change,2)}')"
   ]
  },
  {
   "cell_type": "markdown",
   "id": "88ed61f3",
   "metadata": {},
   "source": [
    "What was the largest change between any two days (based on Closing Price)?"
   ]
  },
  {
   "cell_type": "code",
   "execution_count": 19,
   "id": "ecd3ef8e",
   "metadata": {},
   "outputs": [
    {
     "name": "stdout",
     "output_type": "stream",
     "text": [
      "The largest change between any two days is $2.56\n"
     ]
    }
   ],
   "source": [
    "largest_2day_change = 0\n",
    "last_day_close = json_file['dataset_data']['data'][0][4]\n",
    "\n",
    "for day in json_file['dataset_data']['data']:\n",
    "    change = abs(day[4] - last_day_close)\n",
    "    largest_2day_change = max(largest_2day_change, change)    \n",
    "    last_day_close = day[4]\n",
    "\n",
    "print(f'The largest change between any two days is ${round(largest_2day_change,2)}')"
   ]
  },
  {
   "cell_type": "markdown",
   "id": "58b1a1f6",
   "metadata": {},
   "source": [
    "What was the average daily trading volume during this year?"
   ]
  },
  {
   "cell_type": "code",
   "execution_count": 20,
   "id": "2da230d6",
   "metadata": {},
   "outputs": [
    {
     "name": "stdout",
     "output_type": "stream",
     "text": [
      "Average daily trading volume during 2017 was $89124.34\n"
     ]
    }
   ],
   "source": [
    "s = 0\n",
    "\n",
    "for day in json_file['dataset_data']['data']:\n",
    "    s += day[6]\n",
    "\n",
    "av_tr_vol = round(s/len(json_file['dataset_data']['data']),2)\n",
    "print(f'Average daily trading volume during 2017 was ${av_tr_vol}')"
   ]
  },
  {
   "cell_type": "markdown",
   "id": "0b70c122",
   "metadata": {},
   "source": [
    "(Optional) What was the median trading volume during this year. (Note: you may need to implement your own function for calculating the median.)"
   ]
  },
  {
   "cell_type": "code",
   "execution_count": 21,
   "id": "f4673eb6",
   "metadata": {},
   "outputs": [
    {
     "name": "stdout",
     "output_type": "stream",
     "text": [
      "The median trading volume during this year was $76286.0\n"
     ]
    }
   ],
   "source": [
    "tr_vol = []\n",
    "for day in json_file['dataset_data']['data']:\n",
    "    tr_vol.append(day[6])\n",
    "tr_vol.sort()\n",
    "ind = int(len(tr_vol)/2)\n",
    "print(f'The median trading volume during this year was ${tr_vol[ind]}')"
   ]
  },
  {
   "cell_type": "code",
   "execution_count": null,
   "id": "37c798da",
   "metadata": {},
   "outputs": [],
   "source": []
  }
 ],
 "metadata": {
  "kernelspec": {
   "display_name": "Python 3 (ipykernel)",
   "language": "python",
   "name": "python3"
  },
  "language_info": {
   "codemirror_mode": {
    "name": "ipython",
    "version": 3
   },
   "file_extension": ".py",
   "mimetype": "text/x-python",
   "name": "python",
   "nbconvert_exporter": "python",
   "pygments_lexer": "ipython3",
   "version": "3.7.13"
  }
 },
 "nbformat": 4,
 "nbformat_minor": 5
}
